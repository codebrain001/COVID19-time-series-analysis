{
 "cells": [
  {
   "cell_type": "code",
   "execution_count": 1,
   "metadata": {},
   "outputs": [],
   "source": [
    "# import warnings filter \n",
    "from warnings import simplefilter\n",
    "# ignore all future warnings\n",
    "simplefilter(action='ignore', category=FutureWarning)\n",
    "\n",
    "# Importing Dask packages\n",
    "import dask.dataframe as dd\n",
    "import dask.array as da\n",
    "\n",
    "#import otheer needed python packages\n",
    "import pandas as pd\n",
    "\n",
    "import matplotlib.pyplot as plt\n",
    "%matplotlib inline\n",
    "import seaborn as sns"
   ]
  },
  {
   "cell_type": "code",
   "execution_count": null,
   "metadata": {},
   "outputs": [],
   "source": [
    "import os\n",
    "import wget\n",
    "\n",
    "# Extracting the dataset online\n",
    "\n",
    "### To overwrite the previous datasets when re-running\n",
    "if 'covid19_data.csv' in os.listdir(\"../data\"):\n",
    "    os.remove('/home/qwerty/Documents/COVID19-time-series-analysis/data/covid19_data.csv')\n",
    "    path = '/home/qwerty/Documents/COVID19-time-series-analysis/data/covid19_data.csv'\n",
    "    url =  \"https://raw.githubusercontent.com/datasets/covid-19/master/data/time-series-19-covid-combined.csv\"\n",
    "    wget.download(url, path)\n",
    "else:\n",
    "    path = '/home/qwerty/Documents/COVID19-time-series-analysis/data/covid19_data.csv'\n",
    "    url =  \"https://raw.githubusercontent.com/datasets/covid-19/master/data/time-series-19-covid-combined.csv\"\n",
    "    wget.download(url, path)\n",
    "    \n",
    "# Reading the dataset\n",
    "data = dd.read_csv('../data/covid19_data.csv',\n",
    "                   dtype={'Confirmed': 'float64','Deaths': 'float64', 'Lat':'float64', 'long':'float64'})"
   ]
  },
  {
   "cell_type": "markdown",
   "metadata": {},
   "source": [
    "### Preprocessing the datasets"
   ]
  },
  {
   "cell_type": "code",
   "execution_count": null,
   "metadata": {},
   "outputs": [],
   "source": [
    "data.head()"
   ]
  },
  {
   "cell_type": "code",
   "execution_count": null,
   "metadata": {},
   "outputs": [],
   "source": [
    "data.compute().shape"
   ]
  },
  {
   "cell_type": "code",
   "execution_count": null,
   "metadata": {},
   "outputs": [],
   "source": [
    "data.compute().info()"
   ]
  },
  {
   "cell_type": "code",
   "execution_count": null,
   "metadata": {},
   "outputs": [],
   "source": [
    "#Parsing the 'Date' feature to a date datatype \n",
    "data['Date'] = dd.to_datetime(data['Date'], infer_datetime_format=True) "
   ]
  },
  {
   "cell_type": "code",
   "execution_count": null,
   "metadata": {},
   "outputs": [],
   "source": [
    "data.compute().info()"
   ]
  },
  {
   "cell_type": "code",
   "execution_count": null,
   "metadata": {},
   "outputs": [],
   "source": [
    "# Checking for missing values\n",
    "data.isnull().sum().compute()"
   ]
  },
  {
   "cell_type": "code",
   "execution_count": null,
   "metadata": {},
   "outputs": [],
   "source": [
    "#Query the features sections with missing values to understand it\n",
    "\n",
    "# Using the \"COnfirmed\" feature as case study\n",
    "data.loc[data['Confirmed'].isnull()].compute()\n",
    "\n",
    "### This can be done to the other features in the dataset with missing values"
   ]
  },
  {
   "cell_type": "code",
   "execution_count": null,
   "metadata": {},
   "outputs": [],
   "source": [
    "# Query the data with relevant features\n",
    "dataset = data[['Date','Country/Region',\n",
    "                   'Confirmed', 'Deaths', 'Recovered']]"
   ]
  },
  {
   "cell_type": "code",
   "execution_count": null,
   "metadata": {},
   "outputs": [],
   "source": [
    "dataset.head()"
   ]
  },
  {
   "cell_type": "code",
   "execution_count": null,
   "metadata": {},
   "outputs": [],
   "source": [
    "datewise_df = dataset.groupby([\"Date\"]).agg({\"Confirmed\":'sum',\"Recovered\":'sum',\"Deaths\":'sum'})"
   ]
  },
  {
   "cell_type": "code",
   "execution_count": null,
   "metadata": {},
   "outputs": [],
   "source": [
    "datewise_df.head()"
   ]
  },
  {
   "cell_type": "code",
   "execution_count": null,
   "metadata": {},
   "outputs": [],
   "source": [
    "nic = len(dataset[\"Country/Region\"].unique())\n",
    "cfm_cases = datewise_df[\"Confirmed\"].compute().iloc[-1]\n",
    "rec = datewise_df[\"Recovered\"].compute().iloc[-1]\n",
    "deaths = datewise_df[\"Deaths\"].compute().iloc[-1]\n",
    "active_cases = cfm_cases - rec- deaths\n",
    "closed_cases = rec + deaths"
   ]
  },
  {
   "cell_type": "code",
   "execution_count": null,
   "metadata": {},
   "outputs": [],
   "source": [
    "def overview():\n",
    "    print('=== COVID-19 Global Overview ===')\n",
    "    print(f'== Number of countries which infected:{nic} ==')\n",
    "    print(f'== Total num of confirmed cases:{cfm_cases} ==')\n",
    "    print(f'== Total num of recovered cases:{rec} ==')\n",
    "    print(f'== Total num of deaths:{deaths}')\n",
    "    print(f'== Total num of Active cases around the world:{active_cases} ==')\n",
    "    print(f'== Total num of Closed cases around the world:{closed_cases} ==')\n",
    "    \n",
    "overview()"
   ]
  },
  {
   "cell_type": "code",
   "execution_count": null,
   "metadata": {},
   "outputs": [],
   "source": [
    "# Plotting the distribution on active cases\n",
    "plt.figure(figsize=(25,10))\n",
    "sns.barplot(x=datewise_df.compute().index.date, y = datewise_df[\"Confirmed\"].compute()-\n",
    "            datewise_df[\"Recovered\"].compute()-datewise_df[\"Deaths\"].compute())\n",
    "plt.title(\"Distribution Plot for Active Cases over Date\")\n",
    "plt.xticks(rotation=90)\n",
    "plt.savefig('../figures/Active Cases Cases over Date.png');"
   ]
  },
  {
   "cell_type": "code",
   "execution_count": null,
   "metadata": {},
   "outputs": [],
   "source": [
    "# Plotting distribution of closed cases\n",
    "plt.figure(figsize=(26,8))\n",
    "sns.barplot(x=datewise_df.compute().index.date, y = datewise_df[\"Recovered\"].compute() + \n",
    "            datewise_df[\"Deaths\"].compute())\n",
    "plt.xticks(rotation=90)\n",
    "plt.title(\"Distribution Plot for Closed Cases till date over Date\")\n",
    "plt.savefig('../figures/Closed Cases Cases over Date.png');"
   ]
  },
  {
   "cell_type": "code",
   "execution_count": null,
   "metadata": {},
   "outputs": [],
   "source": [
    "woy = datewise_df.compute().index.weekofyear\n",
    "datewise_df = datewise_df.compute()\n",
    "datewise_df[\"WeekOfYear\"] = woy"
   ]
  },
  {
   "cell_type": "code",
   "execution_count": null,
   "metadata": {},
   "outputs": [],
   "source": [
    "datewise_df.head()"
   ]
  },
  {
   "cell_type": "code",
   "execution_count": null,
   "metadata": {},
   "outputs": [],
   "source": [
    "week_num=[]\n",
    "weekwise_confirmed=[]\n",
    "weekwise_recovered=[]\n",
    "weekwise_deaths=[]\n",
    "counter=1\n",
    "for i in list(datewise_df[\"WeekOfYear\"].unique()):\n",
    "    weekwise_confirmed.append(datewise_df[datewise_df[\"WeekOfYear\"]==i][\"Confirmed\"].iloc[-1])\n",
    "    weekwise_recovered.append(datewise_df[datewise_df[\"WeekOfYear\"]==i][\"Recovered\"].iloc[-1])\n",
    "    weekwise_deaths.append(datewise_df[datewise_df[\"WeekOfYear\"]==i][\"Deaths\"].iloc[-1])\n",
    "    week_num.append(counter)\n",
    "    counter=counter+1"
   ]
  },
  {
   "cell_type": "code",
   "execution_count": null,
   "metadata": {},
   "outputs": [],
   "source": [
    "plt.figure(figsize=(18,5))\n",
    "plt.plot(week_num,weekwise_confirmed,linewidth=3,marker=\"o\", label='Confirmed Cases')\n",
    "plt.plot(week_num,weekwise_recovered,linewidth=3,marker=\"^\", label='Recovered Cases')\n",
    "plt.plot(week_num,weekwise_deaths,linewidth=3,marker=\"+\", label='Deaths')\n",
    "plt.ylabel(\"Number of Cases\")\n",
    "plt.xlabel(\"Week Number\")\n",
    "plt.title(\"Weekly progress of Different Types of Cases\")\n",
    "plt.legend()\n",
    "plt.savefig('../figures/Weekly progress of Different Types of Cases.png');"
   ]
  },
  {
   "cell_type": "code",
   "execution_count": null,
   "metadata": {},
   "outputs": [],
   "source": [
    "fig, (ax1,ax2) = plt.subplots(1, 2,figsize=(15,5))\n",
    "sns.barplot(x=week_num,y=pd.Series(weekwise_confirmed).diff().fillna(0),ax=ax1)\n",
    "sns.barplot(x=week_num,y=pd.Series(weekwise_deaths).diff().fillna(0),ax=ax2)\n",
    "ax1.set_xlabel(\"Week Number\")\n",
    "ax2.set_xlabel(\"Week Number\")\n",
    "ax1.set_ylabel(\"Number of Confirmed Cases\")\n",
    "ax2.set_ylabel(\"Number of Death Cases\")\n",
    "ax1.set_title(\"Weekly increase in Number of Confirmed Cases\")\n",
    "ax2.set_title(\"Weekly increase in Number of Death Cases\")\n",
    "plt.savefig('../figures/Weekly increase.png');"
   ]
  },
  {
   "cell_type": "code",
   "execution_count": null,
   "metadata": {},
   "outputs": [],
   "source": [
    "plt.figure(figsize=(18,7))\n",
    "plt.plot(datewise_df[\"Confirmed\"],marker=\"o\",label=\"Confirmwed cases\")\n",
    "plt.plot(datewise_df[\"Recovered\"],marker=\"^\",label=\"Recovered cases\")\n",
    "plt.plot(datewise_df[\"Deaths\"],marker=\"+\",label=\"Death cases\")\n",
    "plt.xticks(rotation=\"50\")\n",
    "plt.ylabel(\"Num of patients\")\n",
    "plt.xlabel(\"Timestamp\")\n",
    "plt.title(\"Growth rate of confirmed recovered and death cases\")\n",
    "plt.legend()\n",
    "plt.savefig('../figures/Growth rate.png');"
   ]
  },
  {
   "cell_type": "code",
   "execution_count": null,
   "metadata": {},
   "outputs": [],
   "source": [
    "#Calculating the Mortality Rate and Recovery Rate\n",
    "datewise_df[\"Mortality Rate\"] = (datewise_df[\"Deaths\"]/datewise_df[\"Confirmed\"])*100 \n",
    "datewise_df[\"Recovery Rate\"] = (datewise_df[\"Recovered\"]/datewise_df[\"Confirmed\"])*100 \n",
    "datewise_df[\"Active Cases\"] = (datewise_df[\"Confirmed\"]-datewise_df[\"Recovered\"]-datewise_df[\"Deaths\"]) \n",
    "datewise_df[\"Closed Cases\"] = (datewise_df[\"Deaths\"]+datewise_df[\"Recovered\"])"
   ]
  },
  {
   "cell_type": "code",
   "execution_count": null,
   "metadata": {},
   "outputs": [],
   "source": [
    "# ploting mortality and Recovery rate\n",
    "fig, (ax1,ax2) = plt.subplots(1,2,figsize=(20,6))\n",
    "ax1.plot(datewise_df[\"Mortality Rate\"],label=\"Mortality Rate\")\n",
    "ax2.plot(datewise_df[\"Recovery Rate\"],label=\"Recovery Rate\")\n",
    "ax1.set_title(\"Moratality Rate\")\n",
    "ax2.set_title(\"Recovery Rate\")\n",
    "ax1.set_xlabel(\"Timestamp\")\n",
    "ax2.set_xlabel(\"Timestamp\")\n",
    "ax1.set_ylabel(\"Mortality Rate\")\n",
    "ax1.set_xlabel(\"Recovery Rate\")\n",
    "for tick in ax1.get_xticklabels():\n",
    "    tick.set_rotation(-70)\n",
    "for tick in ax2.get_xticklabels():\n",
    "    tick.set_rotation(-70)\n",
    "ax1.axhline(datewise_df[\"Mortality Rate\"].mean(),label=\"Mortality rate mean\", linestyle=\"--\", color='black')\n",
    "ax2.axhline(datewise_df[\"Recovery Rate\"].mean(),label=\"Recovery rate mean\", linestyle=\"--\", color='black')\n",
    "ax2.legend()\n",
    "ax1.legend()\n",
    "plt.savefig('../figures/Mortality and Recovery rate.png');"
   ]
  },
  {
   "cell_type": "code",
   "execution_count": null,
   "metadata": {},
   "outputs": [],
   "source": [
    "plt.figure(figsize=(15,6))\n",
    "plt.plot(datewise_df[\"Confirmed\"].diff().fillna(0),label=\"Daily increase in Confiremd Cases\",\n",
    "         linewidth=3,marker=\"o\")\n",
    "plt.plot(datewise_df[\"Recovered\"].diff().fillna(0),label=\"Daily increase in recovered Cases\",\n",
    "         linewidth=3,marker=\"^\")\n",
    "plt.plot(datewise_df[\"Deaths\"].diff().fillna(0),label=\"Daily increase in deaths Cases\",linewidth=3,marker=\"+\")\n",
    "plt.legend()\n",
    "plt.xticks(rotation=-70)\n",
    "plt.ylabel(\"Daily Increment\")\n",
    "plt.xlabel(\"Timestamp\")\n",
    "plt.savefig('../figures/Daily increment.png');"
   ]
  },
  {
   "cell_type": "code",
   "execution_count": null,
   "metadata": {},
   "outputs": [],
   "source": [
    "daily_increase_confirm=[]\n",
    "daily_increase_recovered=[]\n",
    "daily_increase_deaths=[]\n",
    "for i in range(datewise_df.shape[0]-1):\n",
    "    daily_increase_confirm.append(((datewise_df[\"Confirmed\"].iloc[i+1]/datewise_df[\"Confirmed\"].iloc[i])))\n",
    "    daily_increase_recovered.append(((datewise_df[\"Recovered\"].iloc[i+1]/datewise_df[\"Recovered\"].iloc[i])))\n",
    "    daily_increase_deaths.append(((datewise_df[\"Deaths\"].iloc[i+1]/datewise_df[\"Deaths\"].iloc[i])))\n",
    "daily_increase_confirm.insert(0,1)\n",
    "daily_increase_recovered.insert(0,1)\n",
    "daily_increase_deaths.insert(0,1)\n",
    "\n",
    "plt.figure(figsize=(15,6))\n",
    "plt.plot(datewise_df.index,daily_increase_confirm,label=\"Growth Factor Confiremd Cases\",linewidth=3)\n",
    "plt.plot(datewise_df.index,daily_increase_recovered,label=\"Growth Factor Recovered Cases\",linewidth=3)\n",
    "plt.plot(datewise_df.index,daily_increase_deaths,label=\"Growth Factor Death Cases\",linewidth=3)\n",
    "plt.xlabel(\"Timestamp\")\n",
    "plt.ylabel(\"Growth Factor\")\n",
    "plt.title(\"Growth Factor of different Types of Cases Worldwide\")\n",
    "plt.axhline(1,linestyle='--',color='black',label=\"Baseline\")\n",
    "plt.xticks(rotation=90)\n",
    "plt.legend()\n",
    "plt.savefig('../figures/Growth factor.png');"
   ]
  },
  {
   "cell_type": "markdown",
   "metadata": {},
   "source": [
    "### Country wise Analysis"
   ]
  },
  {
   "cell_type": "code",
   "execution_count": null,
   "metadata": {},
   "outputs": [],
   "source": [
    "countrywise_df = data[data[\"Date\"]==data[\"Date\"].max()].groupby([\"Country/Region\"]).agg({\n",
    "    \"Confirmed\":\"sum\",\"Recovered\":\"sum\",\"Deaths\":\"sum\", \"Lat\": \"min\", \"Long\": \"min\"})\n",
    "\n",
    "countrywise_df[\"Mortality\"]=(countrywise_df[\"Deaths\"]/countrywise_df[\"Confirmed\"])*100\n",
    "countrywise_df[\"Recovery\"]=(countrywise_df[\"Recovered\"]/countrywise_df[\"Confirmed\"])*100"
   ]
  },
  {
   "cell_type": "code",
   "execution_count": null,
   "metadata": {},
   "outputs": [],
   "source": [
    "countrywise_df.head()"
   ]
  },
  {
   "cell_type": "code",
   "execution_count": null,
   "metadata": {},
   "outputs": [],
   "source": [
    "top_15_confirmed= countrywise_df.Confirmed.nlargest(15).reset_index().compute()\n",
    "top_15_deaths = countrywise_df.Deaths.nlargest(15).reset_index().compute()\n",
    "top_15_confirmed = dd.from_pandas(top_15_confirmed, npartitions=1)\n",
    "top_15_deaths = dd.from_pandas(top_15_deaths, npartitions=1)"
   ]
  },
  {
   "cell_type": "code",
   "execution_count": null,
   "metadata": {},
   "outputs": [],
   "source": [
    "fig, (ax1,ax2) = plt.subplots(2, 1 ,figsize=(10,   12))\n",
    "sns.barplot(x=top_15_confirmed[\"Confirmed\"].compute(),y=top_15_confirmed[\"Country/Region\"].compute(),ax=ax1)\n",
    "ax1.set_title(\"Top 15 countries as per Number of Confirmed Cases\")\n",
    "sns.barplot(x=top_15_deaths[\"Deaths\"].compute(),y=top_15_deaths[\"Country/Region\"].compute(),ax=ax2)\n",
    "ax2.set_title(\"Top 15 countries as per Number of Death Cases\")\n",
    "plt.savefig('../figures/Top 15 countries confirmed-Death.png');"
   ]
  },
  {
   "cell_type": "code",
   "execution_count": null,
   "metadata": {},
   "outputs": [],
   "source": [
    "countrywise_df[\"Active_Cases\"] = countrywise_df[\"Confirmed\"] - (countrywise_df[\"Deaths\"] +\n",
    "                                                                countrywise_df[\"Recovered\"])"
   ]
  },
  {
   "cell_type": "code",
   "execution_count": null,
   "metadata": {},
   "outputs": [],
   "source": [
    "top_15_active = countrywise_df.Active_Cases.nlargest(15).reset_index().compute()\n",
    "top_15_active = dd.from_pandas(top_15_active, npartitions=1)"
   ]
  },
  {
   "cell_type": "code",
   "execution_count": null,
   "metadata": {},
   "outputs": [],
   "source": [
    "plt.figure(figsize=(12,8))\n",
    "sns.barplot(x = top_15_active[\"Active_Cases\"].compute(), y = top_15_active[\"Country/Region\"].compute())\n",
    "plt.title(\"Top 15 Countries with Most Number of Active Cases\")\n",
    "plt.savefig('../figures/Top 15 Active Cases.png');"
   ]
  },
  {
   "cell_type": "code",
   "execution_count": null,
   "metadata": {},
   "outputs": [],
   "source": [
    "plot_mortality_rate = countrywise_df[countrywise_df[\"Confirmed\"] > 500]\n",
    "plot_mortality_rate = plot_mortality_rate.Mortality.nlargest(15).reset_index().compute()\n",
    "plot_mortality_rate = dd.from_pandas(plot_mortality_rate, npartitions=1)\n",
    "plot_recovery_rate = countrywise_df[countrywise_df[\"Confirmed\"] > 500]\n",
    "plot_recovery_rate = plot_recovery_rate.Recovered.nlargest(15).reset_index().compute()\n",
    "plot_recovery_rate = dd.from_pandas(plot_recovery_rate, npartitions=1)"
   ]
  },
  {
   "cell_type": "code",
   "execution_count": null,
   "metadata": {},
   "outputs": [],
   "source": [
    "fig, (ax1,ax2) = plt.subplots(2, 1 , figsize = (11, 12))\n",
    "sns.barplot(x  = plot_mortality_rate[\"Mortality\"].compute(),y = plot_mortality_rate[\"Country/Region\"].compute(), ax = ax1)\n",
    "sns.barplot(x  = plot_recovery_rate[\"Recovered\"].compute(),y = plot_recovery_rate[\"Country/Region\"].compute(), ax = ax2)\n",
    "ax1.set_title(\"Top 15 Countries according High Mortatlity Rate\")\n",
    "ax1.set_xlabel(\"Mortality (in Percentage)\")\n",
    "ax2.set_title(\"Top 15 Countries according High Recovery Rate\")\n",
    "ax2.set_xlabel(\"Recovery (in Percentage)\")\n",
    "plt.savefig('../figures/Top 15 Mortality and Recovery.png');"
   ]
  },
  {
   "cell_type": "code",
   "execution_count": null,
   "metadata": {},
   "outputs": [],
   "source": [
    "countrywise_df[\"Survival_Probability\"]=(1-(countrywise_df[\"Deaths\"]/countrywise_df[\"Confirmed\"]))*100\n",
    "top_15_survival=countrywise_df[countrywise_df[\"Confirmed\"]>1000]\n",
    "top_15_survival=top_15_survival.Survival_Probability.nlargest(15).reset_index().compute()\n",
    "top_15_survival=dd.from_pandas(top_15_survival, npartitions=1)"
   ]
  },
  {
   "cell_type": "code",
   "execution_count": null,
   "metadata": {},
   "outputs": [],
   "source": [
    "top_15_survival.head()"
   ]
  },
  {
   "cell_type": "code",
   "execution_count": null,
   "metadata": {},
   "outputs": [],
   "source": [
    "bottom_15_survival=countrywise_df[countrywise_df[\"Confirmed\"]>100]\n",
    "bottom_15_survival=bottom_15_survival.Survival_Probability.nsmallest(15).reset_index().compute()"
   ]
  },
  {
   "cell_type": "code",
   "execution_count": null,
   "metadata": {},
   "outputs": [],
   "source": [
    "fig, (ax1, ax2) = plt.subplots(2, 1,figsize=(10,15))\n",
    "sns.barplot(x=top_15_survival[\"Survival_Probability\"].compute(),y=top_15_survival[\"Country/Region\"].compute(),ax=ax1)\n",
    "ax1.set_title(\"Top 15 Countries with Maximum Survival Probability having more than 1000 Confiremed Cases\")\n",
    "sns.barplot(x=bottom_15_survival[\"Survival_Probability\"],y=bottom_15_survival[\"Country/Region\"],ax=ax2)\n",
    "plt.title(\"Bottom 15 Countries as per Survival Probability\")\n",
    "plt.savefig('../figures/top 15 Survival.png');"
   ]
  },
  {
   "cell_type": "code",
   "execution_count": null,
   "metadata": {},
   "outputs": [],
   "source": [
    "print('Mean Survival Probability across all countries',countrywise_df[\"Survival_Probability\"].mean().compute())\n",
    "print('Mean Death Probability across all countries',100-countrywise_df[\"Survival_Probability\"].mean().compute())"
   ]
  },
  {
   "cell_type": "code",
   "execution_count": null,
   "metadata": {},
   "outputs": [],
   "source": []
  }
 ],
 "metadata": {
  "kernelspec": {
   "display_name": "Python 3",
   "language": "python",
   "name": "python3"
  },
  "language_info": {
   "codemirror_mode": {
    "name": "ipython",
    "version": 3
   },
   "file_extension": ".py",
   "mimetype": "text/x-python",
   "name": "python",
   "nbconvert_exporter": "python",
   "pygments_lexer": "ipython3",
   "version": "3.7.3"
  }
 },
 "nbformat": 4,
 "nbformat_minor": 4
}
